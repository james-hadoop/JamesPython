{
 "nbformat": 4,
 "nbformat_minor": 2,
 "metadata": {
  "language_info": {
   "name": "python",
   "codemirror_mode": {
    "name": "ipython",
    "version": 3
   },
   "version": "3.7.4-final"
  },
  "orig_nbformat": 2,
  "file_extension": ".py",
  "mimetype": "text/x-python",
  "name": "python",
  "npconvert_exporter": "python",
  "pygments_lexer": "ipython3",
  "version": 3,
  "kernelspec": {
   "name": "python271564bitc9d48f0eb2cc4d05be27ed2c489a56c1",
   "display_name": "Python 2.7.15 64-bit"
  }
 },
 "cells": [
  {
   "cell_type": "markdown",
   "metadata": {},
   "source": [
    "导入pyflink包"
   ]
  },
  {
   "cell_type": "code",
   "execution_count": 1,
   "metadata": {},
   "outputs": [],
   "source": [
    "from pyflink.dataset import ExecutionEnvironment\n",
    "from pyflink.table import BatchTableEnvironment, TableConfig, DataTypes\n",
    "from pyflink.table.descriptors import FileSystem, OldCsv, Schema"
   ]
  },
  {
   "cell_type": "markdown",
   "metadata": {},
   "source": [
    "创建Flink执行环境"
   ]
  },
  {
   "cell_type": "code",
   "execution_count": 2,
   "metadata": {},
   "outputs": [],
   "source": [
    "env = ExecutionEnvironment.get_execution_environment()\n",
    "env.set_parallelism(1)\n",
    "t_config = TableConfig()\n",
    "t_env = BatchTableEnvironment.create(env, t_config)"
   ]
  },
  {
   "cell_type": "markdown",
   "metadata": {},
   "source": [
    "注册Source、Sink"
   ]
  },
  {
   "cell_type": "code",
   "execution_count": 3,
   "metadata": {},
   "outputs": [
    {
     "output_type": "execute_result",
     "data": {
      "text/plain": "<pyflink.table.descriptors.BatchTableDescriptor at 0x7fc0e04029d0>"
     },
     "metadata": {},
     "execution_count": 3
    }
   ],
   "source": [
    "src_file_path = '/home/james/workspace/JamesFlink/src/main/resources/data/hello.txt'\n",
    "sink_file_path = 'data/hello.out'\n",
    "\n",
    "t_env.connect(FileSystem().path(src_file_path)).with_format(\n",
    "    OldCsv().line_delimiter(' ').field('word', DataTypes.STRING())).with_schema(\n",
    "    Schema().field('word', DataTypes.STRING())).register_table_source('jamesSource')\n",
    "\n",
    "t_env.connect(FileSystem().path(sink_file_path)).with_format(\n",
    "    OldCsv().field_delimiter('\\t').field('word', DataTypes.STRING()).field('count', DataTypes.BIGINT())).with_schema(\n",
    "    Schema().field('word', DataTypes.STRING()).field('count', DataTypes.BIGINT())).register_table_sink('jamesSink')"
   ]
  },
  {
   "cell_type": "markdown",
   "metadata": {},
   "source": [
    "编写业务逻辑"
   ]
  },
  {
   "cell_type": "code",
   "execution_count": 4,
   "metadata": {},
   "outputs": [],
   "source": [
    "t_env.scan('jamesSource').group_by('word').select('word, count(1)').insert_into('jamesSink')"
   ]
  },
  {
   "cell_type": "markdown",
   "metadata": {},
   "source": [
    "启动程序"
   ]
  },
  {
   "cell_type": "code",
   "execution_count": 5,
   "metadata": {},
   "outputs": [],
   "source": [
    "t_env.execute(\"python_job\")"
   ]
  }
 ]
}