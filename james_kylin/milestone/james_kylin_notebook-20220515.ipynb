{
 "cells": [
  {
   "cell_type": "code",
   "execution_count": 3,
   "metadata": {
    "pycharm": {
     "name": "#%%\n"
    }
   },
   "outputs": [],
   "source": [
    "import datetime\n",
    "import os\n",
    "import sys\n",
    "\n",
    "import pandas as pd\n",
    "\n",
    "from py_kd_data_common_proj.ds_utils.ds_common_util import init_log_config, init_pandas_setting\n",
    "from py_kd_data_common_proj.ds_utils.ds_date_util import format_date, delta_time, make_stat_week_day_list"
   ]
  },
  {
   "cell_type": "markdown",
   "metadata": {
    "pycharm": {
     "name": "#%% md\n"
    }
   },
   "source": [
    "### 出租车上下车信息\n",
    "    measure: \n",
    "        total_amount, tip_amount, tolls_amount, fare_amount, passenger_count\n",
    "    dim:\n",
    "        tpep_pickup_datetime: 2020-12-01 00:07:13\n",
    "        tpep_dropoff_datetime: 2020-12-01 00:18:12\n",
    "        PULocationID: 138\n",
    "        DOLocationID: 263"
   ]
  },
  {
   "cell_type": "code",
   "execution_count": 4,
   "outputs": [],
   "source": [
    "taxi_activity_file_12 = \"/Users/qian.jiang/Documents/_AllDocMap/05_Dataset/kylin_demo/data/trip_data_2018-2021/2020/2020-12.csv\"\n",
    "taxi_activity_file_11 = \"/Users/qian.jiang/Documents/_AllDocMap/05_Dataset/kylin_demo/data/trip_data_2018-2021/2020/2020-11.csv\"\n",
    "taxi_activity_file_10 = \"/Users/qian.jiang/Documents/_AllDocMap/05_Dataset/kylin_demo/data/trip_data_2018-2021/2020/2020-10.csv\"\n",
    "taxi_activity_file_09 = \"/Users/qian.jiang/Documents/_AllDocMap/05_Dataset/kylin_demo/data/trip_data_2018-2021/2020/2020-09.csv\"\n",
    "taxi_activity_file_08 = \"/Users/qian.jiang/Documents/_AllDocMap/05_Dataset/kylin_demo/data/trip_data_2018-2021/2020/2020-08.csv\"\n",
    "taxi_activity_file_07 = \"/Users/qian.jiang/Documents/_AllDocMap/05_Dataset/kylin_demo/data/trip_data_2018-2021/2020/2020-07.csv\"\n",
    "taxi_activity_file_01 = \"/Users/qian.jiang/Documents/_AllDocMap/05_Dataset/kylin_demo/data/trip_data_2018-2021/2021/2021-01.csv\"\n",
    "taxi_activity_file_02 = \"/Users/qian.jiang/Documents/_AllDocMap/05_Dataset/kylin_demo/data/trip_data_2018-2021/2021/2021-02.csv\"\n",
    "taxi_activity_file_03 = \"/Users/qian.jiang/Documents/_AllDocMap/05_Dataset/kylin_demo/data/trip_data_2018-2021/2021/2021-03.csv\"\n",
    "taxi_activity_file_04 = \"/Users/qian.jiang/Documents/_AllDocMap/05_Dataset/kylin_demo/data/trip_data_2018-2021/2021/2021-04.csv\"\n",
    "taxi_activity_file_05 = \"/Users/qian.jiang/Documents/_AllDocMap/05_Dataset/kylin_demo/data/trip_data_2018-2021/2021/2021-05.csv\"\n",
    "taxi_activity_file_06 = \"/Users/qian.jiang/Documents/_AllDocMap/05_Dataset/kylin_demo/data/trip_data_2018-2021/2021/2021-06.csv\"\n",
    "\n",
    "# taxi_df_12 = pd.read_csv(taxi_activity_file_12, low_memory=False)\n",
    "# taxi_df_11 = pd.read_csv(taxi_activity_file_11, low_memory=False)\n",
    "# taxi_df_10 = pd.read_csv(taxi_activity_file_10, low_memory=False)\n",
    "# taxi_df_09 = pd.read_csv(taxi_activity_file_09, low_memory=False)\n",
    "# taxi_df_08 = pd.read_csv(taxi_activity_file_08, low_memory=False)\n",
    "# taxi_df_07 = pd.read_csv(taxi_activity_file_07, low_memory=False)\n",
    "taxi_df_06 = pd.read_csv(taxi_activity_file_06, low_memory=False)\n",
    "taxi_df_05 = pd.read_csv(taxi_activity_file_05, low_memory=False)\n",
    "taxi_df_04 = pd.read_csv(taxi_activity_file_04, low_memory=False)\n",
    "taxi_df_03 = pd.read_csv(taxi_activity_file_03, low_memory=False)\n",
    "taxi_df_02 = pd.read_csv(taxi_activity_file_02, low_memory=False)\n",
    "taxi_df_01 = pd.read_csv(taxi_activity_file_01, low_memory=False)\n",
    "\n",
    "# taxi_df = pd.concat(\n",
    "#     [taxi_df_01, taxi_df_02, taxi_df_03, taxi_df_04, taxi_df_05, taxi_df_06, taxi_df_07, taxi_df_08, taxi_df_09,\n",
    "#      taxi_df_10, taxi_df_11,\n",
    "#      taxi_df_12], axis=0)\n",
    "\n",
    "taxi_df = pd.concat(\n",
    "    [taxi_df_01, taxi_df_02, taxi_df_03, taxi_df_04, taxi_df_05, taxi_df_06], axis=0)"
   ],
   "metadata": {
    "collapsed": false,
    "pycharm": {
     "name": "#%%\n"
    }
   }
  },
  {
   "cell_type": "code",
   "execution_count": null,
   "metadata": {
    "pycharm": {
     "name": "#%%\n",
     "is_executing": true
    }
   },
   "outputs": [],
   "source": [
    "taxi_df['pickup_date'] = taxi_df['tpep_pickup_datetime'].map(\n",
    "    lambda x: str(format_date(x, new_pattern=\"%Y-%m-%d\")))\n",
    "\n",
    "taxi_df['dropoff_date'] = taxi_df['tpep_dropoff_datetime'].map(\n",
    "    lambda x: str(format_date(x, new_pattern=\"%Y-%m-%d\")))\n",
    "\n",
    "taxi_df['elapse_time'] = taxi_df.apply(lambda x: str(delta_time(x['tpep_pickup_datetime'], x['tpep_dropoff_datetime'])),\n",
    "                                       axis=1)\n",
    "\n",
    "taxi_df"
   ]
  },
  {
   "cell_type": "markdown",
   "metadata": {
    "pycharm": {
     "name": "#%% md\n"
    }
   },
   "source": [
    "### 出租车活动区域\n",
    "    dim：\n",
    "        LocationID: 138"
   ]
  },
  {
   "cell_type": "code",
   "execution_count": null,
   "metadata": {
    "pycharm": {
     "name": "#%%\n",
     "is_executing": true
    }
   },
   "outputs": [],
   "source": [
    "taxi_zone_file = \"/Users/qian.jiang/workspace4py/JamesPython/_data/kylin_demo/data/taxi_zone/taxi_zone_lookup.csv\"\n",
    "\n",
    "taxi_zone_df = pd.read_csv(taxi_zone_file, low_memory=False)\n",
    "\n",
    "taxi_zone_df"
   ]
  },
  {
   "cell_type": "markdown",
   "metadata": {
    "pycharm": {
     "name": "#%% md\n"
    }
   },
   "source": [
    "### 连接出租车上下车活动信息与活动区域\n"
   ]
  },
  {
   "cell_type": "code",
   "execution_count": null,
   "metadata": {
    "pycharm": {
     "name": "#%%\n",
     "is_executing": true
    }
   },
   "outputs": [],
   "source": [
    "taxi_pickup_df = taxi_df.join(taxi_zone_df.set_index('LocationID'), how='left', on='PULocationID',\n",
    "                              lsuffix='_L',\n",
    "                              rsuffix=\"_R\")\n",
    "\n",
    "taxi_pickup_df = taxi_pickup_df.join(taxi_zone_df.set_index('LocationID'), how='left', on='DOLocationID',\n",
    "                                     lsuffix='_PU',\n",
    "                                     rsuffix=\"_DO\")\n",
    "\n",
    "taxi_pickup_df"
   ]
  },
  {
   "cell_type": "markdown",
   "metadata": {
    "pycharm": {
     "name": "#%% md\n"
    }
   },
   "source": [
    "### 选取第 9999 行"
   ]
  },
  {
   "cell_type": "code",
   "execution_count": null,
   "metadata": {
    "pycharm": {
     "name": "#%%\n",
     "is_executing": true
    }
   },
   "outputs": [],
   "source": [
    "taxi_pickup_df.iloc[9999]"
   ]
  },
  {
   "cell_type": "markdown",
   "metadata": {
    "pycharm": {
     "name": "#%% md\n"
    }
   },
   "source": [
    "### 选取第 9999 行的指定列"
   ]
  },
  {
   "cell_type": "code",
   "execution_count": null,
   "metadata": {
    "pycharm": {
     "name": "#%%\n",
     "is_executing": true
    }
   },
   "outputs": [],
   "source": [
    "taxi_pickup_df.loc[\n",
    "    9999, ['pickup_date', 'total_amount', 'trip_distance', 'passenger_count', 'elapse_time', 'tpep_pickup_datetime',\n",
    "           'pickup_date', 'Zone_PU', 'tpep_dropoff_datetime', 'dropoff_date', 'Zone_DO']]"
   ]
  },
  {
   "cell_type": "code",
   "execution_count": null,
   "metadata": {
    "pycharm": {
     "name": "#%%\n",
     "is_executing": true
    }
   },
   "outputs": [],
   "source": [
    "taxi_pickup_df.loc[:,\n",
    "['pickup_date', 'total_amount', 'trip_distance', 'passenger_count', 'elapse_time', 'tpep_pickup_datetime',\n",
    " 'pickup_date', 'Zone_PU', 'tpep_dropoff_datetime', 'dropoff_date', 'Zone_DO']]"
   ]
  },
  {
   "cell_type": "markdown",
   "metadata": {
    "pycharm": {
     "name": "#%% md\n"
    }
   },
   "source": [
    "### 日期维表\n",
    "    day_start date,\n",
    "    month_start date,\n",
    "    quarter_start date,\n",
    "    year_start date,\n",
    "    month_en string,\n",
    "    day_of_year int,\n",
    "    week_of_year int"
   ]
  },
  {
   "cell_type": "code",
   "execution_count": null,
   "metadata": {
    "pycharm": {
     "name": "#%%\n",
     "is_executing": true
    }
   },
   "outputs": [],
   "source": [
    "calendar_file = \"/Users/qian.jiang/workspace4py/JamesPython/_data/kylin_demo/data/lookup_calendar/kylin_cal.csv\"\n",
    "\n",
    "cal_df = pd.read_csv(calendar_file, low_memory=False)\n",
    "\n",
    "cal_df"
   ]
  },
  {
   "cell_type": "markdown",
   "metadata": {
    "pycharm": {
     "name": "#%% md\n"
    }
   },
   "source": [
    "### 连接出租车上下车信息：上下车信息、区域、日期"
   ]
  },
  {
   "cell_type": "code",
   "execution_count": null,
   "metadata": {
    "pycharm": {
     "name": "#%%\n",
     "is_executing": true
    }
   },
   "outputs": [],
   "source": [
    "taxi_pickup_df = taxi_pickup_df.join(cal_df.set_index('day_start'), how='left', on='pickup_date',\n",
    "                                     lsuffix='_L',\n",
    "                                     rsuffix=\"_R\")\n",
    "\n",
    "taxi_pickup_df"
   ]
  },
  {
   "cell_type": "code",
   "execution_count": null,
   "metadata": {
    "pycharm": {
     "name": "#%%\n",
     "is_executing": true
    }
   },
   "outputs": [],
   "source": [
    "### 按照日期排序"
   ]
  },
  {
   "cell_type": "code",
   "execution_count": null,
   "metadata": {
    "pycharm": {
     "name": "#%%\n",
     "is_executing": true
    }
   },
   "outputs": [],
   "source": [
    "taxi_pickup_df = taxi_pickup_df.sort_values(axis=0, by=['pickup_date'], ascending=True)\n",
    "\n",
    "taxi_pickup_df"
   ]
  },
  {
   "cell_type": "code",
   "execution_count": null,
   "metadata": {
    "pycharm": {
     "name": "#%%\n",
     "is_executing": true
    }
   },
   "outputs": [],
   "source": [
    "daily_count_df = taxi_pickup_df.groupby(['pickup_date', 'Zone_PU'])['total_amount'].count()\n",
    "daily_count_df = daily_count_df.reset_index(name='cnt')\n",
    "daily_count_df"
   ]
  },
  {
   "cell_type": "code",
   "execution_count": null,
   "metadata": {
    "pycharm": {
     "name": "#%%\n",
     "is_executing": true
    }
   },
   "outputs": [],
   "source": [
    "sort_by_cnt_df = daily_count_df.groupby(['Zone_PU'])['cnt'].count()\n",
    "sort_by_cnt_df = sort_by_cnt_df.reset_index(name='cnt')\n",
    "sort_by_cnt_df = sort_by_cnt_df.sort_values(axis=0, by=['cnt'], ascending=False)\n",
    "sort_by_cnt_df"
   ]
  },
  {
   "cell_type": "code",
   "execution_count": null,
   "metadata": {
    "pycharm": {
     "name": "#%%\n",
     "is_executing": true
    }
   },
   "outputs": [],
   "source": [
    "all_dims = list(daily_count_df['Zone_PU'].unique())\n",
    "\n",
    "# all_dims"
   ]
  },
  {
   "cell_type": "markdown",
   "source": [
    "### 绘制趋势图"
   ],
   "metadata": {
    "collapsed": false,
    "pycharm": {
     "name": "#%% md\n"
    }
   }
  },
  {
   "cell_type": "code",
   "execution_count": null,
   "outputs": [],
   "source": [
    "import matplotlib.pyplot as plt\n",
    "from scipy.stats import zscore\n",
    "\n",
    "# 赋值 dataframe\n",
    "data = daily_count_df\n",
    "\n",
    "data_week = data.copy()\n",
    "\n",
    "TITLE = 'dim'\n",
    "Y_LABEL = 'Taxi Activities'\n",
    "fig = plt.figure(figsize=(10, 6))\n",
    "\n",
    "colors = ['deepskyblue', 'blueviolet', 'peru', 'brown', 'black', 'red', 'gold', 'darkorange']\n",
    "\n",
    "DIM_DATE_NAME = 'pickup_date'\n",
    "DIM_NAME = 'Zone_PU'\n",
    "MES_CNT_NAME = 'cnt'\n",
    "\n",
    "dims = all_dims\n",
    "dims = ['East New York']\n",
    "\n",
    "# 生成周同比数据\n",
    "stat_week_day_str_list = make_stat_week_day_list('2021-07-30', -1, 7, 52)\n",
    "\n",
    "if len(stat_week_day_str_list) != 0:\n",
    "    data_week = data[data.pickup_date.isin(stat_week_day_str_list)]\n",
    "\n",
    "data_week = data_week.groupby([DIM_DATE_NAME, DIM_NAME])[MES_CNT_NAME].sum()\n",
    "data_week = data_week.reset_index(name='cnt')\n",
    "\n",
    "# 绘图\n",
    "i = 0\n",
    "for dim in dims:\n",
    "    subset = data[data.Zone_PU.isin([dim])]\n",
    "    subset = subset.sort_values(axis=0, by=[DIM_DATE_NAME, DIM_NAME], ascending=True)\n",
    "    print('-' * 60)\n",
    "    cnt_zscore = zscore(subset[MES_CNT_NAME])\n",
    "    subset['cnt_zscore'] = cnt_zscore\n",
    "    print(subset)\n",
    "    print('')\n",
    "    plt.plot(subset[DIM_DATE_NAME], subset[MES_CNT_NAME], c=colors[i], label=f\"{dim}-daily\")\n",
    "    i = (i + 1) % 8\n",
    "\n",
    "    subset_week = data_week[data_week.Zone_PU.isin([dim])]\n",
    "    subset_week = subset_week.sort_values(axis=0, by=[DIM_DATE_NAME, DIM_NAME], ascending=True)\n",
    "    print('-' * 60)\n",
    "    cnt_zscore_week = zscore(subset_week[MES_CNT_NAME])\n",
    "    subset_week['cnt_zscore'] = cnt_zscore_week\n",
    "    print(subset_week)\n",
    "    print('')\n",
    "    plt.plot(subset_week[DIM_DATE_NAME], subset_week[MES_CNT_NAME], c=colors[i], label=f\"{dim}-weekly\")\n",
    "    i = (i + 1) % 8\n",
    "\n",
    "plt.legend(loc='upper left')\n",
    "plt.title(TITLE)\n",
    "plt.ylabel(Y_LABEL)\n",
    "plt.xlabel('date')\n",
    "plt.xticks(rotation=60)\n",
    "plt.show()"
   ],
   "metadata": {
    "collapsed": false,
    "pycharm": {
     "name": "#%%\n",
     "is_executing": true
    }
   }
  },
  {
   "cell_type": "code",
   "execution_count": null,
   "outputs": [],
   "source": [],
   "metadata": {
    "collapsed": false,
    "pycharm": {
     "name": "#%%\n",
     "is_executing": true
    }
   }
  }
 ],
 "metadata": {
  "kernelspec": {
   "display_name": "Python 3 (ipykernel)",
   "language": "python",
   "name": "python3"
  },
  "language_info": {
   "codemirror_mode": {
    "name": "ipython",
    "version": 3
   },
   "file_extension": ".py",
   "mimetype": "text/x-python",
   "name": "python",
   "nbconvert_exporter": "python",
   "pygments_lexer": "ipython3",
   "version": "3.8.2"
  }
 },
 "nbformat": 4,
 "nbformat_minor": 1
}